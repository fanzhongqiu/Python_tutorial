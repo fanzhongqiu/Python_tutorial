{
 "cells": [
  {
   "cell_type": "code",
   "execution_count": 1,
   "metadata": {},
   "outputs": [
    {
     "name": "stdout",
     "output_type": "stream",
     "text": [
      "请输入年份：2019\n",
      "请输入月份：11\n",
      "日\t一\t二\t三\t四\t五\t六\n",
      "\t\t\t\t\t1 \t2 \t\n",
      "\n",
      "3 \t4 \t5 \t6 \t7 \t8 \t9 \t\n",
      "\n",
      "10 \t11 \t12 \t13 \t14 \t15 \t16 \t\n",
      "\n",
      "17 \t18 \t19 \t20 \t21 \t22 \t23 \t\n",
      "\n",
      "24 \t25 \t26 \t27 \t28 \t29 \t30 \t\n",
      "\n"
     ]
    }
   ],
   "source": [
    "year = int(input(\"请输入年份：\"))\n",
    "if((year %4 == 0 and year %100 != 0) or (year % 400 == 0)):run = True\n",
    "else:run = False     #这行也可以不用写\n",
    "i = 1900\n",
    "sum = 0\n",
    "while i < year - 1:\n",
    "    i += 1\n",
    "    if((i % 4 == 0 and i % 100 != 0) or (i % 400 == 0)):sum += 366\n",
    "    else: sum += 365\n",
    "month = int(input(\"请输入月份：\"))\n",
    "j = 1\n",
    "while j < month:\n",
    "    if((j == 1) or (j == 3) or (j == 5) or (j == 7) or (j == 8) or (j == 10) or (j == 12)):sum += 31\n",
    "    elif j == 2:\n",
    "        if run:sum += 29\n",
    "        else: sum += 28\n",
    "    else: sum += 30\n",
    "    j += 1\n",
    "week = (sum + 1) % 7\n",
    "if ((month == 1) or (month == 3) or (month == 5) or (month == 7) or (month == 8) or (month == 10) or (month == 12)):day = 31\n",
    "elif month == 2:               #二月的嵌套判断，闰年二月29，平年28\n",
    "    if run:day = 29\n",
    "    else:day = 28\n",
    "else:day = 30\n",
    "print(\"日\\t一\\t二\\t三\\t四\\t五\\t六\")\n",
    "count = 0    #定义一个计数器，以便后面的换行\n",
    "k = 0\n",
    "while k <= week:   #每个月的开始第一周前面的空格数\n",
    "    k += 1\n",
    "    print(\"\\t\",end=\"\")\n",
    "    count += 1\n",
    "    if (count % 7 == 0):print(\"\\n\")\n",
    "   # count=7 进行换行\n",
    "p = 1\n",
    "while p <= day:    #显示天数\n",
    "    print(p,\"\\t\",end=\"\")     #打印  table 不换行\n",
    "    p += 1\n",
    "    count += 1\n",
    "    if(count % 7 == 0):print(\"\\n\")        #count=7 进行换行\n",
    "        "
   ]
  },
  {
   "cell_type": "code",
   "execution_count": null,
   "metadata": {},
   "outputs": [],
   "source": []
  }
 ],
 "metadata": {
  "kernelspec": {
   "display_name": "Python 3",
   "language": "python",
   "name": "python3"
  },
  "language_info": {
   "codemirror_mode": {
    "name": "ipython",
    "version": 3
   },
   "file_extension": ".py",
   "mimetype": "text/x-python",
   "name": "python",
   "nbconvert_exporter": "python",
   "pygments_lexer": "ipython3",
   "version": "3.7.4"
  }
 },
 "nbformat": 4,
 "nbformat_minor": 2
}
